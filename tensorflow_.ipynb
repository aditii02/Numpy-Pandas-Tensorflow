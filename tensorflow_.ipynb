{
  "nbformat": 4,
  "nbformat_minor": 0,
  "metadata": {
    "colab": {
      "provenance": []
    },
    "kernelspec": {
      "name": "python3",
      "display_name": "Python 3"
    },
    "language_info": {
      "name": "python"
    }
  },
  "cells": [
    {
      "cell_type": "markdown",
      "source": [],
      "metadata": {
        "id": "pxJoHggy7rks"
      }
    },
    {
      "cell_type": "code",
      "execution_count": null,
      "metadata": {
        "colab": {
          "base_uri": "https://localhost:8080/"
        },
        "id": "qNuF0Hq5Yi7L",
        "outputId": "1ec116ee-674a-4400-c08b-1609c5fa3026"
      },
      "outputs": [
        {
          "output_type": "stream",
          "name": "stdout",
          "text": [
            "(1, 2)\n",
            "<dtype: 'float32'>\n",
            "tf.Tensor([[1 3 2 6]], shape=(1, 4), dtype=int32)\n",
            "tf.Tensor([1 2 3], shape=(3,), dtype=int32)\n"
          ]
        }
      ],
      "source": [
        "#linear regression\n",
        "\n",
        "import tensorflow as tf\n",
        "\n",
        "x = tf.constant([[1.9,1.2]])\n",
        "print(x.shape)\n",
        "print(x.dtype)\n",
        "\n",
        "\n",
        "print(tf.concat([[[1,3]], [[2,6]]], axis=1))\n",
        "tf.nn.softmax(x,axis=1)\n",
        "\n",
        "y = tf.convert_to_tensor([1,2,3])\n",
        "print(y)\n"
      ]
    },
    {
      "cell_type": "code",
      "source": [
        "var = tf.Variable([0.0,1.0,2.0,3.0])\n",
        "va1 = tf.Variable(1.2)\n",
        "print(va1)\n",
        "var.assign([11.0,21.0,23.0,76.0]) # use assign to update the value of the variable in tf\n",
        "print(var)\n",
        "var.assign_add([1, 1, 1,2])\n",
        "\n",
        "# both constant and variable forms a tensor but constant cant be updated later but variable can be updated"
      ],
      "metadata": {
        "colab": {
          "base_uri": "https://localhost:8080/"
        },
        "id": "pJ-J38H-VbZu",
        "outputId": "6d6f6a4d-a6e1-48cc-e47a-6f32a5c803e4"
      },
      "execution_count": null,
      "outputs": [
        {
          "output_type": "stream",
          "name": "stdout",
          "text": [
            "<tf.Variable 'Variable:0' shape=() dtype=float32, numpy=1.2>\n",
            "<tf.Variable 'Variable:0' shape=(4,) dtype=float32, numpy=array([11., 21., 23., 76.], dtype=float32)>\n"
          ]
        },
        {
          "output_type": "execute_result",
          "data": {
            "text/plain": [
              "<tf.Variable 'UnreadVariable' shape=(4,) dtype=float32, numpy=array([12., 22., 24., 78.], dtype=float32)>"
            ]
          },
          "metadata": {},
          "execution_count": 3
        }
      ]
    },
    {
      "cell_type": "code",
      "source": [
        "# differentiation\n",
        "\n",
        "x = tf.Variable(2.0)\n",
        "p = tf.Variable(2.0)\n",
        "k = 9.0\n",
        "def f(u,p):\n",
        "  y = 5 * u*u + 6 * u + 7*p *k         #5x^2 +6 after differentiation = 2 * 5 * x + 6\n",
        "  print(\"value inside the function is \",y)\n",
        "  return y\n",
        "\n",
        "with tf.GradientTape(persistent = True, watch_accessed_variables=True) as tape : # with persistent = True , allows multiple calls to the gradient method as resources are released when the tape object is garbage collected. wihtout p= True , the gradient is calculated just for one gx and then gradient vector is garbage collected.and throws error : RuntimeError: A non-persistent GradientTape can only be used to compute one set of gradients (or jacobians)\n",
        "  tape.watch([x,p]) # while x is a tf.Variable => we need to set the tape watch it, or else the derivative will be 0. # watch_accessed_variables=False , if set false then it wont watch for the variable whose gradient has to be taken will be considered as 0.\n",
        "  #tape.watch(p)\n",
        "                  # if x is not a tf.Variable then watch is no need\n",
        "  z = f(x,p) # this will compute a vector like= (inverted traingle ) = [ dz/dx, dz/dp], so actually the tape.gradient (z,x) and (z,p) is decided by this statement\n",
        "  print(\"z\",z)\n",
        "\n",
        "\n",
        "gx = tape.gradient(z,x)\n",
        "px = tape.gradient(z,p)\n",
        "print(\"px\",px)\n",
        "print(\"gx\",gx)\n"
      ],
      "metadata": {
        "colab": {
          "base_uri": "https://localhost:8080/"
        },
        "id": "XKrv0JzdnCti",
        "outputId": "c03d0b89-827b-4f4d-bf84-132acdd5da3b"
      },
      "execution_count": null,
      "outputs": [
        {
          "output_type": "stream",
          "name": "stdout",
          "text": [
            "value inside the function is  tf.Tensor(158.0, shape=(), dtype=float32)\n",
            "z tf.Tensor(158.0, shape=(), dtype=float32)\n",
            "px tf.Tensor(63.0, shape=(), dtype=float32)\n",
            "gx tf.Tensor(26.0, shape=(), dtype=float32)\n"
          ]
        }
      ]
    },
    {
      "cell_type": "code",
      "source": [
        "d = tf.Variable([9.0])\n",
        "g = tf.Variable([12.0])\n",
        "\n",
        "def cal (s,d):\n",
        "  c = s*s*s * 4 * 7 * d + d*d*7 + s*d\n",
        "  return c\n",
        "\n",
        "\n",
        "with tf.GradientTape(persistent = True , watch_accessed_variables = True) as tape:\n",
        "  final = cal(d,g)\n",
        "\n",
        "first_order = tape.gradient(final, d)\n",
        "second_order = tape.gradient(first_order,g)\n",
        "print(second_order)"
      ],
      "metadata": {
        "colab": {
          "base_uri": "https://localhost:8080/"
        },
        "id": "mYVQMUF1Usdi",
        "outputId": "d737f79c-7bf8-4922-9ce1-4a10bc90a20d"
      },
      "execution_count": null,
      "outputs": [
        {
          "output_type": "stream",
          "name": "stdout",
          "text": [
            "None\n"
          ]
        }
      ]
    },
    {
      "cell_type": "code",
      "source": [
        "from tensorflow.python.eager.backprop import GradientTape\n",
        "# second order derivative\n",
        "\n",
        "z = tf.Variable(1.0)\n",
        "def second(z):\n",
        "  final = 3*z*z*z\n",
        "  return final\n",
        "\n",
        "with tf.GradientTape() as tape:\n",
        "  #tape.watch(z)\n",
        "  with tf.GradientTape() as tape2:\n",
        "    f = second(z)\n",
        "  df_dz= tape2.gradient(f,z)\n",
        "  print(df_dz)\n",
        "sec= tape.gradient(df_dz,z)\n",
        "print(sec)"
      ],
      "metadata": {
        "colab": {
          "base_uri": "https://localhost:8080/"
        },
        "id": "D08BMoyibHLz",
        "outputId": "81bc1959-7775-49d9-8508-520a133f2ff3"
      },
      "execution_count": null,
      "outputs": [
        {
          "output_type": "stream",
          "name": "stdout",
          "text": [
            "tf.Tensor(9.0, shape=(), dtype=float32)\n",
            "tf.Tensor(18.0, shape=(), dtype=float32)\n"
          ]
        }
      ]
    },
    {
      "cell_type": "code",
      "source": [
        "a = tf.Variable(2.0)\n",
        "def func(a):\n",
        "  result = 4 * a * a * a\n",
        "  return result\n",
        "\n",
        "with GradientTape() as t1:\n",
        "  with GradientTape() as t2:\n",
        "    with GradientTape() as t3:\n",
        "      r = func(a)\n",
        "    dr = t3.gradient(r,a)\n",
        "  dr2 = t2.gradient(dr,a)\n",
        "dr3 = t1.gradient(dr2,a)\n",
        "\n",
        "print(dr,dr2,dr3)\n"
      ],
      "metadata": {
        "colab": {
          "base_uri": "https://localhost:8080/"
        },
        "id": "h1KrHTOkKz4s",
        "outputId": "1a60b2a4-116e-46b6-dfe8-6747ce17fcb7"
      },
      "execution_count": null,
      "outputs": [
        {
          "output_type": "stream",
          "name": "stdout",
          "text": [
            "tf.Tensor(48.0, shape=(), dtype=float32) tf.Tensor(48.0, shape=(), dtype=float32) tf.Tensor(24.0, shape=(), dtype=float32)\n"
          ]
        }
      ]
    },
    {
      "cell_type": "code",
      "source": [
        "import tensorflow as tf\n",
        "\n",
        "#linear regression with one value of x\n",
        "\n",
        "# 1. define x and y\n",
        "# 2. prdedict y\n",
        "# 3. calculate loss\n",
        "# 4. take the derivative of loss with respect to m and c\n",
        "\n",
        "\n",
        "original_y = tf.Variable([8.0,3.0,2.0,7.0,1.0])\n",
        "original_x = tf.Variable ([1.0,4.0,9.0,5.0,6.0])\n",
        "m = tf.Variable (initial_value = 0.0,trainable= True)\n",
        "c = tf.Variable (initial_value = 0.0,trainable = True)\n",
        "\n",
        "# y = mx +c\n",
        "\n",
        "def lossfunction(y_true,y_pred):\n",
        "  loss= tf.reduce_sum(tf.square(y_true - y_pred))\n",
        "  return loss\n",
        "\n",
        "learning_rate = 0.001\n",
        "def calculate_gradient(epochs,x):\n",
        "  for i in range(epochs):\n",
        "    with tf.GradientTape(persistent = True) as tape:\n",
        "  # define m and c as constant\n",
        "      y_pred = m * x + c\n",
        "      #print(\"y_pred\",y_pred)\n",
        "      f = lossfunction(original_y, y_pred)\n",
        "      #print(\"loss for the {} epoch is {}\",i,f)\n",
        "      dl_dm = tape.gradient(f,m)\n",
        "      dl_dc = tape.gradient(f,c)\n",
        "      print(dl_dm,dl_dc)\n",
        "      #update m and c\n",
        "      m.assign_sub(dl_dm * learning_rate)   ## Add 1 to the variable.  my_var.assign_add(1)\n",
        "      c.assign_sub(dl_dc* learning_rate)\n",
        "\n",
        "calculate_gradient(30,original_x)\n",
        "\n",
        "\n",
        "\n",
        "#update m and c\n",
        "# define learning rate\n",
        "# define the epochs\n",
        "\n",
        "\n",
        "\n"
      ],
      "metadata": {
        "colab": {
          "base_uri": "https://localhost:8080/"
        },
        "id": "85SHulNmRZHH",
        "outputId": "68e81a89-4708-4c63-d529-3448c7d58972"
      },
      "execution_count": null,
      "outputs": [
        {
          "output_type": "stream",
          "name": "stderr",
          "text": [
            "WARNING:tensorflow:Calling GradientTape.gradient on a persistent tape inside its context is significantly less efficient than calling it outside the context (it causes the gradient ops to be recorded on the tape, leading to increased CPU and memory usage). Only call GradientTape.gradient inside the context if you actually want to trace the gradient in order to compute higher order derivatives.\n",
            "WARNING:tensorflow:Calling GradientTape.gradient on a persistent tape inside its context is significantly less efficient than calling it outside the context (it causes the gradient ops to be recorded on the tape, leading to increased CPU and memory usage). Only call GradientTape.gradient inside the context if you actually want to trace the gradient in order to compute higher order derivatives.\n"
          ]
        },
        {
          "output_type": "stream",
          "name": "stdout",
          "text": [
            "tf.Tensor(-158.0, shape=(), dtype=float32) tf.Tensor(-42.0, shape=(), dtype=float32)\n",
            "tf.Tensor(-105.656, shape=(), dtype=float32) tf.Tensor(-33.680004, shape=(), dtype=float32)\n",
            "tf.Tensor(-70.37338, shape=(), dtype=float32) tf.Tensor(-28.060398, shape=(), dtype=float32)\n",
            "tf.Tensor(-46.591625, shape=(), dtype=float32) tf.Tensor(-24.261124, shape=(), dtype=float32)\n",
            "tf.Tensor(-30.562435, shape=(), dtype=float32) tf.Tensor(-21.688932, shape=(), dtype=float32)\n",
            "tf.Tensor(-19.759138, shape=(), dtype=float32) tf.Tensor(-19.943924, shape=(), dtype=float32)\n",
            "tf.Tensor(-12.478523, shape=(), dtype=float32) tf.Tensor(-18.756525, shape=(), dtype=float32)\n",
            "tf.Tensor(-7.5725327, shape=(), dtype=float32) tf.Tensor(-17.945034, shape=(), dtype=float32)\n",
            "tf.Tensor(-4.2672043, shape=(), dtype=float32) tf.Tensor(-17.386955, shape=(), dtype=float32)\n",
            "tf.Tensor(-2.040884, shape=(), dtype=float32) tf.Tensor(-16.999725, shape=(), dtype=float32)\n",
            "tf.Tensor(-0.54190445, shape=(), dtype=float32) tf.Tensor(-16.727684, shape=(), dtype=float32)\n",
            "tf.Tensor(0.4668064, shape=(), dtype=float32) tf.Tensor(-16.533312, shape=(), dtype=float32)\n",
            "tf.Tensor(1.1450329, shape=(), dtype=float32) tf.Tensor(-16.391317, shape=(), dtype=float32)\n",
            "tf.Tensor(1.6004734, shape=(), dtype=float32) tf.Tensor(-16.284658, shape=(), dtype=float32)\n",
            "tf.Tensor(1.9057636, shape=(), dtype=float32) tf.Tensor(-16.201832, shape=(), dtype=float32)\n",
            "tf.Tensor(2.1098175, shape=(), dtype=float32) tf.Tensor(-16.135105, shape=(), dtype=float32)\n",
            "tf.Tensor(2.2456436, shape=(), dtype=float32) tf.Tensor(-16.079245, shape=(), dtype=float32)\n",
            "tf.Tensor(2.3355007, shape=(), dtype=float32) tf.Tensor(-16.030733, shape=(), dtype=float32)\n",
            "tf.Tensor(2.3943443, shape=(), dtype=float32) tf.Tensor(-15.987202, shape=(), dtype=float32)\n",
            "tf.Tensor(2.4323025, shape=(), dtype=float32) tf.Tensor(-15.947047, shape=(), dtype=float32)\n",
            "tf.Tensor(2.4561787, shape=(), dtype=float32) tf.Tensor(-15.909194, shape=(), dtype=float32)\n",
            "tf.Tensor(2.4705715, shape=(), dtype=float32) tf.Tensor(-15.872909, shape=(), dtype=float32)\n",
            "tf.Tensor(2.4785786, shape=(), dtype=float32) tf.Tensor(-15.837709, shape=(), dtype=float32)\n",
            "tf.Tensor(2.4822788, shape=(), dtype=float32) tf.Tensor(-15.803261, shape=(), dtype=float32)\n",
            "tf.Tensor(2.4830723, shape=(), dtype=float32) tf.Tensor(-15.769342, shape=(), dtype=float32)\n",
            "tf.Tensor(2.4819336, shape=(), dtype=float32) tf.Tensor(-15.735802, shape=(), dtype=float32)\n",
            "tf.Tensor(2.4794579, shape=(), dtype=float32) tf.Tensor(-15.702542, shape=(), dtype=float32)\n",
            "tf.Tensor(2.4761124, shape=(), dtype=float32) tf.Tensor(-15.669491, shape=(), dtype=float32)\n",
            "tf.Tensor(2.4721775, shape=(), dtype=float32) tf.Tensor(-15.636601, shape=(), dtype=float32)\n",
            "tf.Tensor(2.4678574, shape=(), dtype=float32) tf.Tensor(-15.603844, shape=(), dtype=float32)\n"
          ]
        }
      ]
    },
    {
      "cell_type": "code",
      "source": [
        "# linear regression with multiple values of x\n",
        "\n",
        "import numpy as np\n",
        "import matplotlib.pyplot as plt\n",
        "np.random.seed(0)\n",
        "# np.random.seed(4)\n",
        "tf.random.set_seed(101) # setting global seed for tensorflow\n",
        "\n",
        "x_data = np.linspace(0,50,50)\n",
        "print(\"x_datatype\",type(x_data))\n",
        "\n",
        "y_data = x_data\n",
        "plt.scatter(x_data,y_data)\n",
        "\n",
        "m = tf.Variable(initial_value = 0., trainable = True)\n",
        "c = tf.Variable(initial_value = 0. , trainable = True)\n",
        "learningrate = 0.00001\n",
        "\n",
        "def linear_reg(x_train):\n",
        "  lin = m * x_train + c\n",
        " # print(\"lin\",lin)\n",
        "  return lin\n",
        "\n",
        "def lossfunction(y_true,y_pred):\n",
        "  loss = tf.reduce_sum(tf.square(y_true - y_pred))\n",
        "  return loss\n",
        "\n",
        "def starttrain(epochs,x_data, y_data):\n",
        "  for i in range(epochs):\n",
        "    with tf.GradientTape(persistent = True) as tape:\n",
        "      y_pred = linear_reg(x_data)\n",
        "      loss = lossfunction(y_data, y_pred)\n",
        "      gradients = tape.gradient(loss, [m,c])\n",
        "      #print(\"gradient\",gradients)\n",
        "      m.assign_sub(gradients[0]* learningrate)\n",
        "      c.assign_sub(gradients[1]*learningrate)\n",
        "      #print(\"m\",m)\n",
        "      print(f\"Epoch count {i}: Loss value: {loss.numpy()}\")\n",
        "\n",
        "starttrain(20,x_data,y_data)\n",
        "plt.plot(x_data, linear_reg(x_data), 'r')\n",
        "plt.show()\n"
      ],
      "metadata": {
        "colab": {
          "base_uri": "https://localhost:8080/",
          "height": 843
        },
        "id": "rwdRkREuhtxU",
        "outputId": "8a82acfd-c9a5-409d-b95e-281ef0b31508"
      },
      "execution_count": null,
      "outputs": [
        {
          "output_type": "stream",
          "name": "stderr",
          "text": [
            "WARNING:tensorflow:Calling GradientTape.gradient on a persistent tape inside its context is significantly less efficient than calling it outside the context (it causes the gradient ops to be recorded on the tape, leading to increased CPU and memory usage). Only call GradientTape.gradient inside the context if you actually want to trace the gradient in order to compute higher order derivatives.\n"
          ]
        },
        {
          "output_type": "stream",
          "name": "stdout",
          "text": [
            "x_datatype <class 'numpy.ndarray'>\n",
            "Epoch count 0: Loss value: 42091.8359375\n",
            "Epoch count 1: Loss value: 1043.099853515625\n",
            "Epoch count 2: Loss value: 25.86041259765625\n",
            "Epoch count 3: Loss value: 0.6519173383712769\n",
            "Epoch count 4: Loss value: 0.027194958180189133\n",
            "Epoch count 5: Loss value: 0.011708931997418404\n",
            "Epoch count 6: Loss value: 0.011320123448967934\n",
            "Epoch count 7: Loss value: 0.011304831132292747\n",
            "Epoch count 8: Loss value: 0.011298839934170246\n",
            "Epoch count 9: Loss value: 0.011292893439531326\n",
            "Epoch count 10: Loss value: 0.011287270113825798\n",
            "Epoch count 11: Loss value: 0.01128118671476841\n",
            "Epoch count 12: Loss value: 0.011275555938482285\n",
            "Epoch count 13: Loss value: 0.011269810609519482\n",
            "Epoch count 14: Loss value: 0.011263959109783173\n",
            "Epoch count 15: Loss value: 0.011258108541369438\n",
            "Epoch count 16: Loss value: 0.011252349242568016\n",
            "Epoch count 17: Loss value: 0.011246495880186558\n",
            "Epoch count 18: Loss value: 0.011240486055612564\n",
            "Epoch count 19: Loss value: 0.011234985664486885\n"
          ]
        },
        {
          "output_type": "display_data",
          "data": {
            "text/plain": [
              "<Figure size 640x480 with 1 Axes>"
            ],
            "image/png": "[encoded data removed]"
          },
          "metadata": {}
        }
      ]
    },
    {
      "cell_type": "code",
      "source": [
        "def loss_func(y_pred,y_orig):\n",
        "  lossvalue = tf.reduce_sum(tf.square(y_orig - y_pred))\n",
        "  print(\"type of loss value just after the function\",type(lossvalue))\n",
        "  return lossvalue\n"
      ],
      "metadata": {
        "id": "5I7OOiOqMTl-"
      },
      "execution_count": null,
      "outputs": []
    },
    {
      "cell_type": "code",
      "source": [
        "# linear regression\n",
        "\n",
        "# 1. define original x and original y\n",
        "# 2. define loss function ,learning rate, epochs\n",
        "# 3. calculate y = mx+c\n",
        "# 4. update weights\n",
        "\n",
        "import matplotlib.pyplot as plt\n",
        "x_original = tf.Variable ([8.0,3.0,9.0,7.0,6.0])\n",
        "y_original = tf.Variable([8.0,3.0,2.0,7.0,1.0])\n",
        "\n",
        "plt.scatter(x_original,y_original)\n",
        "def regression(epoch, x_value,y_orig):\n",
        "\n",
        "  m = tf.Variable(initial_value = 0.0)\n",
        "  c = tf.Variable(initial_value = 0.0 )\n",
        "  learning_rate = 0.01\n",
        "  for i in range(epoch):\n",
        "    with tf.GradientTape(persistent = True) as tape:\n",
        "      y_pred = m * x_value + c\n",
        "      print(\"y_pred after mx+c\", y_pred)\n",
        "      plt.plot(x_original,y_pred)\n",
        "      print(\"type\",type(y_pred))\n",
        "      loss = loss_func(y_pred,y_orig)\n",
        "      print(\"type of loss\",type(loss))\n",
        "      print(\"loss for epoch i :{} is :{} \".format(i,loss))\n",
        "      gradients = tape.gradient(loss,[m,c])\n",
        "      print(\"gradients\",gradients)\n",
        "      m.assign_sub(gradients[0]* learning_rate)\n",
        "      c.assign_sub(gradients[1]*learning_rate)\n",
        "\n",
        "\n",
        "regression(5,x_original,y_original)\n",
        "\n",
        "\n",
        "\n"
      ],
      "metadata": {
        "colab": {
          "base_uri": "https://localhost:8080/",
          "height": 1000
        },
        "id": "z5MmZxzGIi0J",
        "outputId": "5bab6855-2cf3-41c0-99da-b7723b5ac181"
      },
      "execution_count": null,
      "outputs": [
        {
          "output_type": "stream",
          "name": "stderr",
          "text": [
            "WARNING:tensorflow:Calling GradientTape.gradient on a persistent tape inside its context is significantly less efficient than calling it outside the context (it causes the gradient ops to be recorded on the tape, leading to increased CPU and memory usage). Only call GradientTape.gradient inside the context if you actually want to trace the gradient in order to compute higher order derivatives.\n"
          ]
        },
        {
          "output_type": "stream",
          "name": "stdout",
          "text": [
            "y_pred after mx+c tf.Tensor([0. 0. 0. 0. 0.], shape=(5,), dtype=float32)\n",
            "type <class 'tensorflow.python.framework.ops.EagerTensor'>\n",
            "type of loss value just after the function <class 'tensorflow.python.framework.ops.EagerTensor'>\n",
            "type of loss <class 'tensorflow.python.framework.ops.EagerTensor'>\n",
            "loss for epoch i :0 is :127.0 \n",
            "gradients [<tf.Tensor: shape=(), dtype=float32, numpy=-292.0>, <tf.Tensor: shape=(), dtype=float32, numpy=-42.0>]\n",
            "y_pred after mx+c tf.Tensor([23.779999  9.179999 26.699999 20.859999 17.939999], shape=(5,), dtype=float32)\n",
            "type <class 'tensorflow.python.framework.ops.EagerTensor'>\n",
            "type of loss value just after the function <class 'tensorflow.python.framework.ops.EagerTensor'>\n",
            "type of loss <class 'tensorflow.python.framework.ops.EagerTensor'>\n",
            "loss for epoch i :1 is :1376.353759765625 \n",
            "gradients [<tf.Tensor: shape=(), dtype=float32, numpy=1131.4799>, <tf.Tensor: shape=(), dtype=float32, numpy=154.91998>]\n",
            "y_pred after mx+c tf.Tensor([-68.28758  -26.313595 -76.68238  -59.892788 -51.49799 ], shape=(5,), dtype=float32)\n",
            "type <class 'tensorflow.python.framework.ops.EagerTensor'>\n",
            "type of loss value just after the function <class 'tensorflow.python.framework.ops.EagerTensor'>\n",
            "type of loss <class 'tensorflow.python.framework.ops.EagerTensor'>\n",
            "loss for epoch i :2 is :20100.68359375 \n",
            "gradients [<tf.Tensor: shape=(), dtype=float32, numpy=-4379.2407>, <tf.Tensor: shape=(), dtype=float32, numpy=-607.3487>]\n",
            "y_pred after mx+c tf.Tensor([288.12515  111.137115 323.52277  252.72755  217.32994 ], shape=(5,), dtype=float32)\n",
            "type <class 'tensorflow.python.framework.ops.EagerTensor'>\n",
            "type of loss value just after the function <class 'tensorflow.python.framework.ops.EagerTensor'>\n",
            "type of loss <class 'tensorflow.python.framework.ops.EagerTensor'>\n",
            "loss for epoch i :3 is :300721.3125 \n",
            "gradients [<tf.Tensor: shape=(), dtype=float32, numpy=16954.379>, <tf.Tensor: shape=(), dtype=float32, numpy=2343.685>]\n",
            "y_pred after mx+c tf.Tensor([-1091.662   -420.9311 -1225.8082  -957.5158  -823.3696], shape=(5,), dtype=float32)\n",
            "type <class 'tensorflow.python.framework.ops.EagerTensor'>\n",
            "type of loss value just after the function <class 'tensorflow.python.framework.ops.EagerTensor'>\n",
            "type of loss <class 'tensorflow.python.framework.ops.EagerTensor'>\n",
            "loss for epoch i :4 is :4506363.0 \n",
            "gradients [<tf.Tensor: shape=(), dtype=float32, numpy=-65634.38>, <tf.Tensor: shape=(), dtype=float32, numpy=-9080.574>]\n"
          ]
        },
        {
          "output_type": "display_data",
          "data": {
            "text/plain": [
              "<Figure size 640x480 with 1 Axes>"
            ],
            "image/png": "[encoded data removed]"
          },
          "metadata": {}
        }
      ]
    },
    {
      "cell_type": "code",
      "source": [
        "c = tf.Variable(7.0)\n",
        "d = tf.Variable(5.0)\n",
        "\n",
        "def gradient_function(a,b):\n",
        "  final = 2* c*c *c + 45 * d + c *d\n",
        "  print(\"inside final\",final)\n",
        "  return final\n",
        "\n",
        "#third order derivative\n",
        "with tf.GradientTape(persistent = True) as tape:\n",
        "  with tf.GradientTape() as tape1:\n",
        "    with tf.GradientTape() as tape2:\n",
        "      z = gradient_function(c,d)\n",
        "    f1 = tape2.gradient(z,c)\n",
        "  f2 = tape1.gradient(f1,c)\n",
        "f3 = tape.gradient(f2,c)\n",
        "\n",
        "\n",
        "#zc = tape.gradient(z,c) # first order derivative\n",
        "#zc_two = tape.gradient(zc,c)\n",
        "print(\"third order derivative\",f3) # throws as none\n",
        "#zd = tape.gradient(z,d)\n",
        "\n",
        "\n",
        "\n"
      ],
      "metadata": {
        "id": "SHIk-AnhVdHJ"
      },
      "execution_count": null,
      "outputs": []
    },
    {
      "cell_type": "code",
      "source": [
        "#logistic regression with one variable\n",
        "import numpy as np\n",
        "import tensorflow as tf\n",
        "from tensorflow.keras.losses import CategoricalCrossentropy\n",
        "\n",
        "def sigmoid_func(inputs):\n",
        "  outputs = 1 / ( 1 + np.exp( -inputs ))\n",
        "  print(outputs)\n",
        "  return outputs\n",
        "\n",
        "def crossentropyloss(logits,labels):\n",
        "  cross_entropy_loss = CategoricalCrossentropy()\n",
        "  loss = cross_entropy_loss(logits,labels).numpy()\n",
        "  print(\"calculated loss\",loss)\n",
        "  return loss\n",
        "\n",
        "x_val = tf.Variable([-3.0,2.0,-5.0,-7.0,5.0,-9.0,4.0,6.0],dtype=tf.float32)\n",
        "y_val = tf.Variable([0.0,1.0,0.0,0.0,1.0,0.0,1.0,1.0],dtype=tf.float32)\n",
        "learning_rate = 0.01\n",
        "print(x_val)\n",
        "def logits(epochs,x_val,y_val):\n",
        "  m = tf.Variable(initial_value = 0.1)\n",
        "  c = tf.Variable(initial_value = 0.1)\n",
        "  for i in range(epochs):\n",
        "    with tf.GradientTape(persistent = True) as tape:\n",
        "      y_pred = (x_val * m) +c\n",
        "      print(\"type of y_pred\",y_pred)\n",
        "      y_pred = sigmoid_func(y_pred)\n",
        "      print(\"y_pred after sigmoid\",y_pred)\n",
        "      y_pred = [0 if y <= 0.5 else 1 for y in y_pred ]\n",
        "      #y_pred = tf.Variable(y_pred)\n",
        "      y_pred = tf.convert_to_tensor(y_pred)\n",
        "      print(\"y_pred type after sigma\",y_pred)\n",
        "      loss = tf.convert_to_tensor(crossentropyloss(y_pred,y_val))\n",
        "      print(\"type of loss\",type(loss))\n",
        "    gradients = tape.gradient(loss,[m,c])\n",
        "    print('gradients',gradients)\n",
        "    m.assign_sub(gradients[0]* learning_rate)\n",
        "    c.assign_sub(gradients[1]*learning_rate)\n",
        "\n",
        "logits (10,x_val,y_val)\n",
        "\n",
        "\n",
        "\n",
        "\n",
        "\n",
        "\n"
      ],
      "metadata": {
        "id": "mLNO0tMwUroF"
      },
      "execution_count": null,
      "outputs": []
    },
    {
      "cell_type": "code",
      "source": [
        "x= tf.constant([1.0,2.0,3.0,6.0],shape = [2,2])\n",
        "y = tf.constant([2.0,9.0],shape = [2,1])\n",
        "print(tf.matmul(x,y))\n"
      ],
      "metadata": {
        "colab": {
          "base_uri": "https://localhost:8080/"
        },
        "id": "P6WNYt2j6xap",
        "outputId": "0bb19749-cda2-463b-b35d-bf4689ec208f"
      },
      "execution_count": null,
      "outputs": [
        {
          "output_type": "stream",
          "name": "stdout",
          "text": [
            "tf.Tensor(\n",
            "[[20.]\n",
            " [60.]], shape=(2, 1), dtype=float32)\n"
          ]
        }
      ]
    },
    {
      "cell_type": "code",
      "source": [
        "from tensorflow.keras.datasets import mnist\n",
        "(x_train,y_train),(x_test,y_test) = mnist.load_data()# this data is in int , but have to convert into float since tensor takes float\n",
        "x_train, x_test = np.array(x_train, np.float32), np.array(x_test, np.float32) # convert into tensor\n",
        "#print(x_train)\n",
        "# x_val = tf.Variable(np.arange(10).reshape(-1, 1),dtype=tf.float32)\n",
        "# y_val = tf.Variable(np.array([0, 0, 0, 0, 1, 1, 1, 1, 1, 1]),dtype=tf.float32)\n",
        "# print(x_val)\n",
        "# x_val = tf.convert_to_tensor(x_val,dtype=tf.float32)\n",
        "# y_val = tf.convert_to_tensor(y_val,dtype=tf.float32)"
      ],
      "metadata": {
        "colab": {
          "base_uri": "https://localhost:8080/"
        },
        "id": "PCzcgFhIdEGF",
        "outputId": "108718b9-c649-40f8-94c3-7f682f2a81f1"
      },
      "execution_count": null,
      "outputs": [
        {
          "output_type": "stream",
          "name": "stdout",
          "text": [
            "[5 0 4 ... 5 6 8]\n"
          ]
        }
      ]
    },
    {
      "cell_type": "code",
      "source": [
        "class LogisticRegression():\n",
        "\n",
        "  def __init__(self,learning_rate,iter):\n",
        "    self.lr = learning_rate\n",
        "    self.iters = iter\n",
        "    self.slope = None\n",
        "    self.bias = None\n",
        "\n",
        "  def sigmoid_func(self,inputs):\n",
        "    outputs = 1 / ( 1 + np.exp( -inputs ))\n",
        "    return outputs\n",
        "\n",
        "  def crossentropy_loss(self,logits,labels)  :\n",
        "    cross_entropy_loss = CategoricalCrossentropy()\n",
        "    loss = tf.reduce_mean(cross_entropy_loss(logits,labels))\n",
        "    print(type(loss))\n",
        "    return loss\n",
        "\n",
        "\n",
        "  def fit(self, x_train, y_train):\n",
        "    self.slope = tf.Variable(initial_value = 0.1,trainable = True)\n",
        "    self.bias = tf.Variable(initial_value = 0.1,trainable = True)\n",
        "    for i in range(self.iters):\n",
        "      with tf.GradientTape (persistent = True) as tape:\n",
        "        y_pred = (self.slope * x_train ) + self.bias\n",
        "        y_pred = self.sigmoid_func(y_pred)\n",
        "        #y_pred = tf.convert_to_tensor(y_pred)\n",
        "        y_pred = tf.Variable([0.0 if y <=0.5 else 1.0 for y in y_pred ])\n",
        "        #y_pred = tf.convert_to_tensor(y_pred)\n",
        "        print(\"y_pred type after sigma\",y_pred)\n",
        "        loss = self.crossentropy_loss(y_pred,y_pred)\n",
        "        print(\"loss is \",loss)\n",
        "\n",
        "      gradients = tape.gradient(loss,[self.slope,self.bias])\n",
        "      self.slope.assign_sub(gradients[0]* self.lr)\n",
        "      self.bias.assign_sub(gradients[1]* self.lr)\n",
        "\n",
        "x_val = tf.Variable([-1.0,-2.0,4.0,-3.0,7.0])\n",
        "y_val = tf.Variable([0.0,0.0,1.0,0.0,1.0])\n",
        "learning_rate = 0.01\n",
        "logistic = LogisticRegression(learning_rate , 5)\n",
        "logistic.fit(x_val,y_val)\n",
        "\n",
        "\n",
        "\n",
        "\n"
      ],
      "metadata": {
        "id": "pASPFgtn7e8O"
      },
      "execution_count": null,
      "outputs": []
    },
    {
      "cell_type": "code",
      "source": [
        "#Tensorflow graphs\n",
        "\n",
        "# define a regular function\n",
        "import tensorflow as tf\n",
        "def regular_function(x,y): #this will be called by the outer function and will be a part of the graph\n",
        "  c = tf.matmul(x,y)\n",
        "  return c\n",
        "\n",
        "a_function_using_graph = tf.function(regular_function)\n",
        "x = tf.Variable([[2.0,1.0]])\n",
        "y = tf.Variable([[3.0],[4.0]])\n",
        "reg = regular_function(x,y)\n",
        "tf_func = a_function_using_graph(x,y)\n",
        "assert(reg==tf_func) #The assert keyword is used when debugging code.It lets you test if a condition in your code returns True, if not, the program will raise an AssertionError\n",
        "\n",
        "\n",
        "# define a inner function called by a regular function and tf.function will form a graph when you call a outer function, use a decorator\n",
        "\n",
        "def inner_function(x,y):\n",
        "  return tf.matmul(x,y)\n",
        "\n",
        "@tf.function #builds python graphs from functions\n",
        "def outer_function(x,y,d):\n",
        "  c = inner_function(x,y)\n",
        "  ans = c + d #+ tf.Variable([8.0]) # creating a tf.variable here is not recommended\n",
        "  return ans\n",
        "\n",
        "x = tf.Variable([[1.0,2.0]])\n",
        "y = tf.Variable([[3.0],[7.0]])\n",
        "d = tf.Variable([9.0])\n",
        "\n",
        "ans = outer_function(x,y,d)\n",
        "print(ans)\n",
        "\n",
        "@tf.function\n",
        "def second_trial(x,y):\n",
        "  ans = x+y\n",
        "  return ans\n",
        "\n",
        "i= second_trial(x,y)\n",
        "print(i)\n",
        "tf.config.run_functions_eagerly(True) #this will make function execute eagerly and turns off the ability of a function to create and run graphs.\n",
        "# Don't forget to set it back when you are done.\n",
        "tf.config.run_functions_eagerly(False)\n",
        "outer_function(x,y,d)\n",
        "second_trial(x,y)\n",
        "\n",
        "\n"
      ],
      "metadata": {
        "colab": {
          "base_uri": "https://localhost:8080/"
        },
        "id": "kJvz6hQbQVmC",
        "outputId": "8b0d5b76-13e7-49d9-9f8f-19c0a5442197"
      },
      "execution_count": null,
      "outputs": [
        {
          "output_type": "stream",
          "name": "stdout",
          "text": [
            "tf.Tensor([[26.]], shape=(1, 1), dtype=float32)\n",
            "tf.Tensor(\n",
            "[[4. 5.]\n",
            " [8. 9.]], shape=(2, 2), dtype=float32)\n"
          ]
        },
        {
          "output_type": "execute_result",
          "data": {
            "text/plain": [
              "<tf.Tensor: shape=(2, 2), dtype=float32, numpy=\n",
              "array([[4., 5.],\n",
              "       [8., 9.]], dtype=float32)>"
            ]
          },
          "metadata": {},
          "execution_count": 2
        }
      ]
    },
    {
      "cell_type": "code",
      "source": [
        "import inspect\n",
        "\n",
        "@tf.function()\n",
        "def autograph_test(x,y,c):\n",
        "  if c == 1:\n",
        "    return x+y\n",
        "  else:\n",
        "    return x-y\n",
        "\n",
        "x = tf.Variable([[1.0,2.0]])\n",
        "y = tf.Variable([[3.0],[7.0]])\n",
        "c = 1\n",
        "tf.config.run_functions_eagerly(True)\n",
        "#converted_g = tf.autograph.to_graph(autograph_test) # works only for python function\n",
        "#print(inspect.getsource(coverted_g))\n",
        "#print(inspect.getsource(converted_cube))\n",
        "autograph_test(x,y,c)"
      ],
      "metadata": {
        "colab": {
          "base_uri": "https://localhost:8080/"
        },
        "id": "M5BQzupEj-5O",
        "outputId": "badc8e21-a599-4e97-f45e-db66809c5d9c"
      },
      "execution_count": null,
      "outputs": [
        {
          "output_type": "execute_result",
          "data": {
            "text/plain": [
              "<tf.Tensor: shape=(2, 2), dtype=float32, numpy=\n",
              "array([[4., 5.],\n",
              "       [8., 9.]], dtype=float32)>"
            ]
          },
          "metadata": {},
          "execution_count": 12
        }
      ]
    },
    {
      "cell_type": "code",
      "source": [
        "# K means\n",
        "\n",
        "import math\n",
        "dataset = [[5.13,88],\n",
        "[5.9,113],\n",
        "[8.36,93],\n",
        "[8.27,97],\n",
        "[5.45,110],\n",
        "[5.88,109],\n",
        "[8.41,98],\n",
        "[3.12,1.21]]\n",
        "k = 2\n",
        "centroid = [[10,11],[8,10]]\n",
        "\n",
        "class Kmeans():\n",
        "  def __init__(self,k,centroid,dataset,iter):\n",
        "    self.k = k\n",
        "    self.dataset = dataset\n",
        "    self.centroid = centroid\n",
        "    self.iteration = iter\n",
        "\n",
        "\n",
        "  def find_distance(self,data):\n",
        "    iter = 0\n",
        "    euc_distance = float(\"inf\")\n",
        "    for k in range(len(self.centroid)):\n",
        "      distance = math.sqrt(((data[0]- self.centroid[k][0])**2) + ((data[1] -self.centroid[k][1])**2))\n",
        "      print(k,distance)\n",
        "      if distance < euc_distance :\n",
        "        euc_distance = distance\n",
        "        iter = k\n",
        "        #print(\"inside iter\",iter,euc_distance)\n",
        "    #print(iter)\n",
        "    return iter, euc_distance\n",
        "\n",
        "\n",
        "  def fit(self):\n",
        "\n",
        "    for j in range(self.iteration):\n",
        "      groups = [[] for i in range(self.k)]\n",
        "      distance = 0\n",
        "      for i in range(len(self.dataset)):\n",
        "        iter, distance = self.find_distance(self.dataset[i])\n",
        "        groups[iter].append(i)\n",
        "      print(\"groups\",groups)\n",
        "      #update centroids:\n",
        "      for k in range(len(groups)):\n",
        "        x = 0; y=0\n",
        "        for val in groups[k]:\n",
        "          x+= self.dataset[val][0]\n",
        "          y+= self.dataset[val][1]\n",
        "        x = x /len(groups[k])-1\n",
        "        y = y /len(groups[k])-1\n",
        "        self.centroid[k] = [x,y]\n",
        "      #print(self.centroid)\n",
        "\n",
        "kmean = Kmeans(k,centroid,dataset,3)\n",
        "kmean.fit()\n",
        "\n",
        "\n",
        "\n",
        "\n",
        "\n",
        "\n",
        "\n",
        "\n",
        "\n",
        "\n",
        "\n"
      ],
      "metadata": {
        "colab": {
          "base_uri": "https://localhost:8080/"
        },
        "id": "hGQml2lDY-uF",
        "outputId": "b9a55c9e-87ea-47dd-840c-0a3ef7049b33"
      },
      "execution_count": null,
      "outputs": [
        {
          "output_type": "stream",
          "name": "stdout",
          "text": [
            "0 77.15385213973441\n",
            "1 78.05278278190983\n",
            "0 102.08236870292538\n",
            "1 103.02140554273174\n",
            "0 82.01639836032791\n",
            "1 83.00078071921975\n",
            "0 86.01739882140124\n",
            "1 87.00041896450844\n",
            "0 99.10450292494282\n",
            "1 100.03250721640441\n",
            "0 98.08656584874403\n",
            "1 99.02269638825233\n",
            "0 87.01452809732407\n",
            "1 88.00095510845323\n",
            "0 11.96572187542398\n",
            "1 10.053780383517436\n",
            "groups [[0, 1, 2, 3, 4, 5, 6], [7]]\n",
            "0 12.159786601913765\n",
            "1 87.8415858235722\n",
            "0 12.857785698215093\n",
            "1 112.85332294620305\n",
            "0 7.597441029983817\n",
            "1 92.9995790313053\n",
            "0 4.01502306395388\n",
            "1 96.98518752881803\n",
            "0 9.862382147972829\n",
            "1 109.84048889184717\n",
            "0 8.857808269935562\n",
            "1 108.8549571677836\n",
            "0 3.399102222406282\n",
            "1 97.99208233321711\n",
            "0 98.96838028339339\n",
            "1 1.4142135623730951\n",
            "groups [[0, 1, 2, 3, 4, 5, 6], [7]]\n",
            "0 12.159786601913765\n",
            "1 87.8415858235722\n",
            "0 12.857785698215093\n",
            "1 112.85332294620305\n",
            "0 7.597441029983817\n",
            "1 92.9995790313053\n",
            "0 4.01502306395388\n",
            "1 96.98518752881803\n",
            "0 9.862382147972829\n",
            "1 109.84048889184717\n",
            "0 8.857808269935562\n",
            "1 108.8549571677836\n",
            "0 3.399102222406282\n",
            "1 97.99208233321711\n",
            "0 98.96838028339339\n",
            "1 1.4142135623730951\n",
            "groups [[0, 1, 2, 3, 4, 5, 6], [7]]\n"
          ]
        }
      ]
    },
    {
      "cell_type": "code",
      "source": [
        "# knn algorithm\n",
        "\n",
        "class KNN():\n",
        "  def __init__(self,iter,dataset):\n",
        "    self.iter = iter\n",
        "    self.dataset = dataset\n",
        "\n",
        "  def find_distance(self,dataset,datapoint,mark):\n",
        "    mylist = []\n",
        "    if mark == \"r\":\n",
        "       for i in dataset:\n",
        "      #euclidean distance\n",
        "          d = math.dist(dataset[i],datapoint)\n",
        "          mylist.append(d)\n",
        "       print(mylist)\n",
        "       return mylist\n",
        "    else:\n",
        "      mydict = {}\n",
        "      final_list=[]\n",
        "      for i in dataset:\n",
        "        d = math.dist(dataset[i],datapoint)\n",
        "        mydict[str(d)] = i\n",
        "      mylist = ()\n",
        "      for k in mydict.keys():\n",
        "        mylist.append(int(k))\n",
        "      mylist = mylist.sort()\n",
        "      for i in mylist[:10]:\n",
        "        final_list.append(mydict[str(i)])\n",
        "      print(final_list)\n",
        "      return final_list\n",
        "\n",
        "  def classification_fit(self,datapoint):\n",
        "    groups = self.find_distance(self.dataset,datapoint,\"c\")\n",
        "    max_dict ={}\n",
        "    for k in groups:\n",
        "      max_dict[str(k)] = max_dict.get(str(k),1)+1\n",
        "    class_ = float('-inf')\n",
        "    classifier= \"\"\n",
        "    for i in max_dict:\n",
        "      if max_dict[i] > class_:\n",
        "        class_ = max_dict[i]\n",
        "        classifier = i\n",
        "    return classifier\n",
        "\n",
        "  def regression_fit(self,datapoint):\n",
        "    distances = find_distance(self.dataset,datapoint,\"r\")\n",
        "    d = distances.sort()\n",
        "    distances = d[:10]\n",
        "    sum = 0\n",
        "    for k in distances :\n",
        "      sum+=k\n",
        "    mean_value = sum/len(distances)-1\n",
        "    return mean_value\n",
        "\n",
        "\n",
        "# data needs to be formed\n",
        "\n",
        "\n"
      ],
      "metadata": {
        "id": "7B7dh00fY-2r"
      },
      "execution_count": null,
      "outputs": []
    },
    {
      "cell_type": "code",
      "source": [
        "tensor = tf.constant([[1.0,2.0,3.0,4.0]])\n",
        "print(tensor)"
      ],
      "metadata": {
        "colab": {
          "base_uri": "https://localhost:8080/"
        },
        "id": "XLkmfss6Y_Qe",
        "outputId": "8d8316aa-2544-4200-f09a-3aadbf23cda8"
      },
      "execution_count": null,
      "outputs": [
        {
          "output_type": "stream",
          "name": "stdout",
          "text": [
            "tf.Tensor([[1. 2. 3. 4.]], shape=(1, 4), dtype=float32)\n"
          ]
        }
      ]
    },
    {
      "cell_type": "code",
      "source": [],
      "metadata": {
        "id": "qu0nGDvUY_VJ"
      },
      "execution_count": null,
      "outputs": []
    },
    {
      "cell_type": "code",
      "source": [
        "# neural network sequential network\n",
        "import tensorflow as tf\n",
        "import keras\n",
        "from keras import layers\n",
        "\n",
        "#first method\n",
        "\n",
        "model = keras.Sequential([\n",
        "\n",
        "    layers.Dense(2,activation=\"relu\",name = \"l1\",use_bias = True, input_shape=(4,)),\n",
        "    layers.Dense(3,activation = \"relu\",name = \"l2\"),\n",
        "    layers.Dense(5,activation =\"relu\",name = \"l3\")\n",
        "]\n",
        "\n",
        ")\n",
        "\n",
        "print(model.summary())  #cant be called here since the layer weights are not initialised yet , if input shape is give then it can be called\n",
        "\n",
        "x = tf.constant([[1.0,9.0,8.0,10.9],[1.2,3.4,6.8,9.0]])\n",
        "y = model(x)\n",
        "print(y)\n",
        "print(\"model layers\",model.layers) # only give give the layer object\n",
        "\n",
        "model.pop() # will pop the last layer\n",
        "print(model.summary())\n",
        "\n",
        "\n",
        "#second method\n",
        "\n",
        "\n",
        "layer1 = layers.Dense(2,activation=\"relu\",use_bias = True)\n",
        "layer2 = layers.Dense(5,activation=\"relu\",use_bias = True)\n",
        "layer3 = layers.Dense(5,activation =\"relu\",use_bias = True)\n",
        "input = tf.constant ([[1.2,3.4,5.6,7.8]])\n",
        "output = layer1(layer2((layer3(input))))\n",
        "#print(\"output\",output)\n",
        "\n",
        "# third method\n",
        "\n",
        "model2 = keras.Sequential()\n",
        "model2.add(layers.Dense(2,activation = \"relu\",input_shape = (4,)))\n",
        "model2.add(layers.Dense(3,activation =\"relu\"))\n",
        "input = tf.constant([[1.2,3.4,5.6,7.8]])\n",
        "y = model2(input)\n",
        "print(\"third model output\",y)\n",
        "print(\"third model summary\",model2.summary())\n",
        "\n",
        "\n"
      ],
      "metadata": {
        "colab": {
          "base_uri": "https://localhost:8080/"
        },
        "id": "ts3cX2toY_LV",
        "outputId": "85394410-75b3-4afd-a0aa-436cf3ce668d"
      },
      "execution_count": null,
      "outputs": [
        {
          "output_type": "stream",
          "name": "stdout",
          "text": [
            "Model: \"sequential_2\"\n",
            "_________________________________________________________________\n",
            " Layer (type)                Output Shape              Param #   \n",
            "=================================================================\n",
            " l1 (Dense)                  (None, 2)                 10        \n",
            "                                                                 \n",
            " l2 (Dense)                  (None, 3)                 9         \n",
            "                                                                 \n",
            " l3 (Dense)                  (None, 5)                 20        \n",
            "                                                                 \n",
            "=================================================================\n",
            "Total params: 39 (156.00 Byte)\n",
            "Trainable params: 39 (156.00 Byte)\n",
            "Non-trainable params: 0 (0.00 Byte)\n",
            "_________________________________________________________________\n",
            "None\n",
            "tf.Tensor(\n",
            "[[0.         1.3053958  0.         3.5114527  0.76684964]\n",
            " [0.         1.378572   0.         3.708293   0.8098366 ]], shape=(2, 5), dtype=float32)\n",
            "model layers [<keras.src.layers.core.dense.Dense object at 0x7f03f821e950>, <keras.src.layers.core.dense.Dense object at 0x7f03f821ed40>, <keras.src.layers.core.dense.Dense object at 0x7f03f821ed70>]\n",
            "Model: \"sequential_2\"\n",
            "_________________________________________________________________\n",
            " Layer (type)                Output Shape              Param #   \n",
            "=================================================================\n",
            " l1 (Dense)                  (None, 2)                 10        \n",
            "                                                                 \n",
            " l2 (Dense)                  (None, 3)                 9         \n",
            "                                                                 \n",
            "=================================================================\n",
            "Total params: 19 (76.00 Byte)\n",
            "Trainable params: 19 (76.00 Byte)\n",
            "Non-trainable params: 0 (0.00 Byte)\n",
            "_________________________________________________________________\n",
            "None\n",
            "third model output tf.Tensor([[0.       0.       6.630692]], shape=(1, 3), dtype=float32)\n",
            "Model: \"sequential_3\"\n",
            "_________________________________________________________________\n",
            " Layer (type)                Output Shape              Param #   \n",
            "=================================================================\n",
            " dense_8 (Dense)             (None, 2)                 10        \n",
            "                                                                 \n",
            " dense_9 (Dense)             (None, 3)                 9         \n",
            "                                                                 \n",
            "=================================================================\n",
            "Total params: 19 (76.00 Byte)\n",
            "Trainable params: 19 (76.00 Byte)\n",
            "Non-trainable params: 0 (0.00 Byte)\n",
            "_________________________________________________________________\n",
            "third model summary None\n"
          ]
        }
      ]
    },
    {
      "cell_type": "code",
      "source": [
        "# feature extractor\n",
        "feature_extractor = keras.Model(inputs = model.input,outputs = [layer.output for layer in model.layers])\n",
        "x= tf.ones((1,4))\n",
        "features = feature_extractor(x)\n",
        "\n",
        "\n",
        "\n",
        "print(\"model input\",model.inputs)\n",
        "for layer in model2.layers:\n",
        "  print(\"layer output feature extractor\",layer.output)\n",
        "\n"
      ],
      "metadata": {
        "colab": {
          "base_uri": "https://localhost:8080/"
        },
        "id": "bkzysqb9Y_Zy",
        "outputId": "46b2c663-d241-4e02-c62e-775ab6e0cf62"
      },
      "execution_count": null,
      "outputs": [
        {
          "output_type": "stream",
          "name": "stdout",
          "text": [
            "model input [<KerasTensor: shape=(None, 4) dtype=float32 (created by layer 'l1_input')>]\n",
            "layer output feature extractor KerasTensor(type_spec=TensorSpec(shape=(None, 2), dtype=tf.float32, name=None), name='dense_3/Relu:0', description=\"created by layer 'dense_3'\")\n",
            "layer output feature extractor KerasTensor(type_spec=TensorSpec(shape=(None, 3), dtype=tf.float32, name=None), name='dense_4/Relu:0', description=\"created by layer 'dense_4'\")\n"
          ]
        }
      ]
    },
    {
      "cell_type": "code",
      "source": [
        "\"\"\"First, we want to decide a model architecture, this is the number of hidden layers and activation functions, etc. (compile)\n",
        "Secondly, we will want to train our model to get all the paramters to the correct value to map our inputs to our outputs. (fit)\n",
        "Lastly, we will want to use this model to do some feed-forward passes to predict novel inputs. (predict)\"\"\"\n",
        "\n",
        "from keras import layers\n",
        "\n",
        "base_model = keras.applications.Xception(\n",
        "    weights='imagenet',\n",
        "    include_top=False,\n",
        "    pooling='avg')\n",
        "\n",
        "\n",
        "# freeze the base model\n",
        "base_model.trainable = False\n",
        "\n",
        "# add a classifier on top\n",
        "\n",
        "model = keras.Sequential([base_model,layers.Dense(100)])\n",
        "\n",
        "model.compile(optimizer='adam',\n",
        "             loss=tf.keras.losses.SparseCategoricalCrossentropy(from_logits=True),\n",
        "metrics=[tf.keras.metrics.SparseCategoricalAccuracy()])\n",
        "\n",
        "# model.compile(loss=keras.losses.categorical_crossentropy,\n",
        "#               optimizer=keras.optimizers.Adadelta(),\n",
        "#               metrics=['accuracy'])\n",
        "\n",
        "(train_images, train_labels), (test_images, test_labels) = tf.keras.datasets.mnist.load_data()\n",
        "\n",
        "print(\"train images shape\",train_images.shape)\n",
        "\n",
        "train_labels = train_labels[:1000]\n",
        "test_labels = test_labels[:1000]\n",
        "\n",
        "train_images = train_images[:1000].reshape(28,28,1)/255.0\n",
        "test_images = test_images[:1000].reshape(28,28,1)/255.0\n",
        "\n",
        "\n",
        "print(train_images[0].shape)\n",
        "\n",
        "\n",
        "model.fit(train_images,\n",
        "          train_labels,\n",
        "          epochs=10,\n",
        "          validation_data=(test_images, test_labels))\n",
        "\n",
        "\n"
      ],
      "metadata": {
        "id": "fJGm51ARY_hl"
      },
      "execution_count": null,
      "outputs": []
    },
    {
      "cell_type": "code",
      "source": [
        "#functional api\n",
        "\n",
        "layer_inputs = keras.Input(shape=(32,32,3))\n",
        "dense_layer = layers.Dense(64, activation= \"relu\")(layer_inputs)\n",
        "#x = dense_layer(layer_inputs)\n",
        "dense_layer2 = layers.Dense(32,activation = 'relu')(dense_layer)\n",
        "layers_outputs = layers.Dense(10,activation=\"relu\")(dense_layer2)\n",
        "\n",
        "\n",
        "model = keras.Model(inputs = layer_inputs,outputs = layers_outputs,name = \"funcapi_model\")\n",
        "model.summary()\n",
        "\n",
        "# view the model graph\n",
        "keras.utils.plot_model(model,\"my_first_model.png\", show_shapes = True)\n",
        "\n",
        "# save the model\n",
        "save_dir = \"modelsave \"\n",
        "model.save(save_dir)\n",
        "model_recreate = keras.models.load_model(save_dir)"
      ],
      "metadata": {
        "colab": {
          "base_uri": "https://localhost:8080/"
        },
        "id": "mlQ83xSoY_lj",
        "outputId": "8d5e2a80-6a2f-4f83-bc5c-34b14b3e7d7f"
      },
      "execution_count": null,
      "outputs": [
        {
          "output_type": "stream",
          "name": "stdout",
          "text": [
            "Model: \"funcapi_model\"\n",
            "_________________________________________________________________\n",
            " Layer (type)                Output Shape              Param #   \n",
            "=================================================================\n",
            " input_40 (InputLayer)       [(None, 32, 32, 3)]       0         \n",
            "                                                                 \n",
            " dense_65 (Dense)            (None, 32, 32, 64)        256       \n",
            "                                                                 \n",
            " dense_66 (Dense)            (None, 32, 32, 32)        2080      \n",
            "                                                                 \n",
            " dense_67 (Dense)            (None, 32, 32, 10)        330       \n",
            "                                                                 \n",
            "=================================================================\n",
            "Total params: 2666 (10.41 KB)\n",
            "Trainable params: 2666 (10.41 KB)\n",
            "Non-trainable params: 0 (0.00 Byte)\n",
            "_________________________________________________________________\n"
          ]
        },
        {
          "output_type": "stream",
          "name": "stderr",
          "text": [
            "WARNING:tensorflow:Compiled the loaded model, but the compiled metrics have yet to be built. `model.compile_metrics` will be empty until you train or evaluate the model.\n",
            "WARNING:tensorflow:No training configuration found in save file, so the model was *not* compiled. Compile it manually.\n"
          ]
        }
      ]
    },
    {
      "cell_type": "code",
      "source": [
        "#model layer input and output\n",
        "\n",
        "x = keras.Input(shape = (32,))\n",
        "y = tf.square(x)\n",
        "model = keras.Model(x,y)\n",
        "print(model)\n",
        "\n",
        "#building an autoencoder\n",
        "\n",
        "#1. define the input\n",
        "#2. pass the input to the layers\n",
        "#3. create more layers and keep passing the output from prev layers\n",
        "#4. final layer = output layer\n",
        "#5. create an encoder model , model (input,output), similarly create a decoder model (input,output)\n",
        "#6. finally form the autoencoder model with initial input and decoder output\n",
        "\n",
        "\n",
        "\n",
        "input = keras.Input(shape = (28,28,1),name = \"input_image\")\n",
        "layer1 = layers.Conv2D(16,3,activation = \"relu\")(input)\n",
        "layer2 = layers.Conv2D(32,3,activation = \"relu\")(layer1)\n",
        "layer3 = layers.MaxPooling2D(3)(layer2)\n",
        "layer4 = layers.Conv2D(32, 3, activation=\"relu\")(layer3)\n",
        "print(\"hello how are you\")\n",
        "x = layers.Conv2D(16, 3, activation=\"relu\")(layer4)\n",
        "encoder_output = layers.GlobalMaxPooling2D()(x)\n",
        "\n",
        "model_encoder = keras.Model(input, encoder_output,name = \"encoder\")\n",
        "\n",
        "model_encoder.summary()\n",
        "\n",
        "x = layers.Reshape((4,4,1))(encoder_output)\n",
        "x = layers.Conv2DTranspose(16, 3, activation=\"relu\")(x)\n",
        "x = layers.Conv2DTranspose(32, 3, activation=\"relu\")(x)\n",
        "x = layers.UpSampling2D(3)(x)\n",
        "x = layers.Conv2DTranspose(16, 3, activation=\"relu\")(x)\n",
        "\n",
        "decoded_output = layers.Conv2DTranspose(1, 3, activation=\"relu\")(x)\n",
        "\n",
        "autoencoder = keras.Model(input, decoded_output,name = \"autoencoder\")\n",
        "autoencoder.summary()"
      ],
      "metadata": {
        "id": "sKvbH6FGY_o5"
      },
      "execution_count": null,
      "outputs": []
    },
    {
      "cell_type": "code",
      "source": [
        "# ensemble method\n",
        "\n",
        "def get_model():\n",
        "  input = keras.Input(shape = (32,))\n",
        "  l1 = layers.Dense(1, activation = \"relu\")(input)\n",
        "  return keras.Model(input,l1)\n",
        "\n",
        "model1 = get_model()\n",
        "model2 = get_model()\n",
        "model3 = get_model()\n",
        "\n",
        "input = keras.Input(shape = (32,))\n",
        "m1 = model1(input)\n",
        "m2 = model(input)\n",
        "m3 = model(input)\n",
        "\n",
        "avg_output = layers.average ([m1,m2,m3])\n",
        "ensemble_model = keras.Model(input,avg_output)\n",
        "\n",
        "keras.utils.plot_model(ensemble_model, \"ensemble_model.png\")"
      ],
      "metadata": {
        "colab": {
          "base_uri": "https://localhost:8080/",
          "height": 272
        },
        "id": "QmM8JcFZY_u5",
        "outputId": "557a6940-d49f-4f40-9a29-659e9f70898d"
      },
      "execution_count": null,
      "outputs": [
        {
          "output_type": "execute_result",
          "data": {
            "image/png": "[encoded data removed]",
            "text/plain": [
              "<IPython.core.display.Image object>"
            ]
          },
          "metadata": {},
          "execution_count": 62
        }
      ]
    },
    {
      "cell_type": "code",
      "source": [
        "#creating custom layers\n",
        "\n",
        "#1. create a init inheriting the super class\n",
        "#2. define a build function which defines weights and bias\n",
        "#3. define a call function which does the computation of y = mx+c\n",
        "\n",
        "import tensorflow as tf\n",
        "from tensorflow.keras.layers import Layer\n",
        "\n",
        "class LinearLayer(Layer):\n",
        "  def __init__(self,units):\n",
        "    super().__init__()\n",
        "    self.units = units\n",
        "\n",
        "  def build(self,input_dim):\n",
        "    print(\"inside build\")\n",
        "    self.w = self.add_weight(shape = (input_dim[-1],self.units), initializer = \"random_normal\", trainable = True)\n",
        "\n",
        "    self.b = self.add_weight(shape = (self.units), initializer = \"zeros\", trainable = True)\n",
        "\n",
        "  # def build(self, input_shape):\n",
        "  #       print(\"input shape\",input_shape[-1])\n",
        "  #       self.w = self.add_weight(shape=(input_shape[-1], self.units),initializer=\"random_normal\",trainable=True)\n",
        "  #       print(self.w)\n",
        "  #       self.b = self.add_weight(shape=(self.units,), initializer=\"random_normal\", trainable=True)\n",
        "\n",
        "  def call(self,inputs):\n",
        "    print(\"inside call\")\n",
        "    return tf.matmul(inputs,self.w) + self.b\n",
        "\n",
        "\n",
        "x = tf.Variable([[1.0,9.9,8.9,8.0],[1.0,9.0,8.0,7.0]])\n",
        "my_dense = LinearLayer(32)\n",
        "y = my_dense(x)\n",
        "print(y)\n",
        "\n",
        "\n",
        "\n"
      ],
      "metadata": {
        "colab": {
          "base_uri": "https://localhost:8080/"
        },
        "id": "EP5Z4AbPlKPX",
        "outputId": "8ebb63c2-1e8e-4e93-f51b-6f31042089b1"
      },
      "execution_count": null,
      "outputs": [
        {
          "output_type": "stream",
          "name": "stdout",
          "text": [
            "inside build\n",
            "inside call\n",
            "tf.Tensor(\n",
            "[[-0.29458985  0.67746204  0.24582252  0.5756243  -0.1665802   1.2022898\n",
            "   1.0581698   0.8431879   0.21619546 -0.29535294  0.30970666  1.1614864\n",
            "  -0.60758984  0.7829623  -0.8511929   1.1321393  -1.5717382   0.10532276\n",
            "  -1.4805467   0.3249231  -1.3684015   0.43659276 -0.34927192 -0.8905678\n",
            "  -0.65061307 -0.00406966  0.13335873  0.7793991   0.8221552   0.03125322\n",
            "   0.908846    1.062352  ]\n",
            " [-0.26317352  0.5800192   0.20293593  0.51052725 -0.12816678  1.082042\n",
            "   0.9557084   0.75925463  0.18095973 -0.2385177   0.28311837  1.0531989\n",
            "  -0.55653965  0.7044104  -0.76982856  1.0107841  -1.4167535   0.07738574\n",
            "  -1.3437084   0.299949   -1.2395246   0.4100952  -0.30964208 -0.79474187\n",
            "  -0.58211404 -0.01257256  0.11296719  0.70772946  0.72746277  0.03698057\n",
            "   0.8314443   0.9482571 ]], shape=(2, 32), dtype=float32)\n"
          ]
        }
      ]
    },
    {
      "cell_type": "code",
      "source": [
        "import keras\n",
        "import tensorflow as tf\n",
        "\n",
        "class Linear(keras.layers.Layer):\n",
        "    def __init__(self, units=32):\n",
        "        super().__init__()\n",
        "        print(\"inside init\")\n",
        "        self.units = units\n",
        "\n",
        "    def build(self, input_shape):\n",
        "        print(\"input shape\",input_shape[-1])\n",
        "        self.w = self.add_weight(shape=(input_shape[-1], self.units),initializer=\"random_normal\",trainable=True)\n",
        "        print(self.w)\n",
        "        self.b = self.add_weight(shape=(self.units,), initializer=\"random_normal\", trainable=True)\n",
        "\n",
        "    def call(self, inputs):\n",
        "        print(\"inside call function\")\n",
        "        return tf.matmul(inputs, self.w) + self.b\n",
        "\n",
        "x = tf.ones((2, 2))\n",
        "print(x)\n",
        "linear_layer = Linear(32)\n",
        "\n",
        "# The layer's weights are created dynamically the first time the layer is called\n",
        "y = linear_layer(x)\n",
        "print(y)"
      ],
      "metadata": {
        "colab": {
          "base_uri": "https://localhost:8080/"
        },
        "id": "FG75eYHnMpHW",
        "outputId": "04cdbf3c-8ce5-407e-8aba-437ddf5fb87e"
      },
      "execution_count": null,
      "outputs": [
        {
          "output_type": "stream",
          "name": "stdout",
          "text": [
            "tf.Tensor(\n",
            "[[1. 1.]\n",
            " [1. 1.]], shape=(2, 2), dtype=float32)\n",
            "inside init\n",
            "input shape 2\n",
            "<tf.Variable 'linear_8/Variable:0' shape=(2, 32) dtype=float32, numpy=\n",
            "array([[-0.05396628, -0.05686462, -0.07670227, -0.01159141, -0.01400912,\n",
            "        -0.03874153, -0.02423155,  0.00746136, -0.0519442 ,  0.03725116,\n",
            "        -0.03275495, -0.01593868, -0.09681412,  0.09804141, -0.02609902,\n",
            "        -0.04610913, -0.00788931, -0.03318901,  0.0128896 ,  0.00752461,\n",
            "        -0.03992972, -0.01647343, -0.09584283, -0.01427616,  0.03648385,\n",
            "        -0.00979629, -0.07778927,  0.00967569, -0.05161257,  0.05850982,\n",
            "        -0.0700458 ,  0.04141715],\n",
            "       [ 0.01521337, -0.0692622 , -0.00586403,  0.06192854, -0.06085361,\n",
            "         0.05151749,  0.04016273,  0.04902179, -0.0316957 , -0.02678572,\n",
            "        -0.07350702,  0.00194111,  0.00724326,  0.00018016, -0.00468301,\n",
            "         0.07554858,  0.00900036,  0.12423038, -0.01758913, -0.0190443 ,\n",
            "         0.04454306, -0.0562568 ,  0.0632298 , -0.03563019, -0.0873142 ,\n",
            "         0.03848451,  0.00450086,  0.00017454, -0.01620547, -0.08666746,\n",
            "         0.0339939 , -0.01810999]], dtype=float32)>\n",
            "inside call function\n",
            "tf.Tensor(\n",
            "[[-0.10316725 -0.12498051 -0.15245728  0.12504107 -0.03657202  0.04996523\n",
            "   0.08699406  0.06286544 -0.02737937 -0.04154177 -0.07887271  0.04547334\n",
            "  -0.08042996  0.12367299  0.00608937  0.01889606  0.01778796  0.04449353\n",
            "  -0.05931463 -0.01098225  0.03339785 -0.04092596  0.07702162 -0.05102106\n",
            "  -0.08462357  0.08027525 -0.10728252 -0.11170374 -0.04697958 -0.05650619\n",
            "  -0.14363104  0.06323335]\n",
            " [-0.10316725 -0.12498051 -0.15245728  0.12504107 -0.03657202  0.04996523\n",
            "   0.08699406  0.06286544 -0.02737937 -0.04154177 -0.07887271  0.04547334\n",
            "  -0.08042996  0.12367299  0.00608937  0.01889606  0.01778796  0.04449353\n",
            "  -0.05931463 -0.01098225  0.03339785 -0.04092596  0.07702162 -0.05102106\n",
            "  -0.08462357  0.08027525 -0.10728252 -0.11170374 -0.04697958 -0.05650619\n",
            "  -0.14363104  0.06323335]], shape=(2, 32), dtype=float32)\n"
          ]
        }
      ]
    }
  ]
}